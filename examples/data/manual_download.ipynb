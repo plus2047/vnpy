{
 "cells": [
  {
   "cell_type": "code",
   "execution_count": 1,
   "metadata": {},
   "outputs": [],
   "source": [
    "import csv\n",
    "from datetime import datetime, timedelta\n",
    "from typing import List, Optional\n",
    "from vnpy.trader.engine import BaseEngine, MainEngine, EventEngine\n",
    "from vnpy.trader.constant import Interval, Exchange\n",
    "from vnpy.trader.object import BarData, TickData, ContractData, HistoryRequest\n",
    "from vnpy.trader.database import BaseDatabase, get_database, BarOverview, DB_TZ\n",
    "from vnpy.trader.datafeed import BaseDatafeed, get_datafeed\n",
    "from vnpy.trader.utility import ZoneInfo\n",
    "\n",
    "database = get_database()\n",
    "datafeed = get_datafeed()"
   ]
  },
  {
   "cell_type": "code",
   "execution_count": 2,
   "metadata": {},
   "outputs": [
    {
     "name": "stdout",
     "output_type": "stream",
     "text": [
      "[BarData(gateway_name='TS', extra=None, symbol='IC2210', exchange=<Exchange.CFFEX: 'CFFEX'>, datetime=datetime.datetime(2022, 8, 22, 0, 0, tzinfo=zoneinfo.ZoneInfo(key='Asia/Shanghai')), interval=<Interval.DAILY: 'd'>, volume=2036.0, turnover=259349.552, open_interest=1989.0, open_price=6312.8, high_price=6414.2, low_price=6286.0, close_price=6399.6), BarData(gateway_name='TS', extra=None, symbol='IC2210', exchange=<Exchange.CFFEX: 'CFFEX'>, datetime=datetime.datetime(2022, 8, 23, 0, 0, tzinfo=zoneinfo.ZoneInfo(key='Asia/Shanghai')), interval=<Interval.DAILY: 'd'>, volume=2284.0, turnover=291508.056, open_interest=2683.0, open_price=6393.8, high_price=6403.6, low_price=6357.4, close_price=6400.4), BarData(gateway_name='TS', extra=None, symbol='IC2210', exchange=<Exchange.CFFEX: 'CFFEX'>, datetime=datetime.datetime(2022, 8, 24, 0, 0, tzinfo=zoneinfo.ZoneInfo(key='Asia/Shanghai')), interval=<Interval.DAILY: 'd'>, volume=4047.0, turnover=508386.488, open_interest=4294.0, open_price=6407.8, high_price=6409.8, low_price=6187.0, close_price=6215.8), BarData(gateway_name='TS', extra=None, symbol='IC2210', exchange=<Exchange.CFFEX: 'CFFEX'>, datetime=datetime.datetime(2022, 8, 25, 0, 0, tzinfo=zoneinfo.ZoneInfo(key='Asia/Shanghai')), interval=<Interval.DAILY: 'd'>, volume=2658.0, turnover=329849.668, open_interest=4203.0, open_price=6235.0, high_price=6249.0, low_price=6162.6, close_price=6246.0), BarData(gateway_name='TS', extra=None, symbol='IC2210', exchange=<Exchange.CFFEX: 'CFFEX'>, datetime=datetime.datetime(2022, 8, 26, 0, 0, tzinfo=zoneinfo.ZoneInfo(key='Asia/Shanghai')), interval=<Interval.DAILY: 'd'>, volume=4125.0, turnover=515967.128, open_interest=5882.0, open_price=6259.2, high_price=6304.4, low_price=6206.8, close_price=6236.0), BarData(gateway_name='TS', extra=None, symbol='IC2210', exchange=<Exchange.CFFEX: 'CFFEX'>, datetime=datetime.datetime(2022, 8, 29, 0, 0, tzinfo=zoneinfo.ZoneInfo(key='Asia/Shanghai')), interval=<Interval.DAILY: 'd'>, volume=4036.0, turnover=502466.092, open_interest=5937.0, open_price=6155.4, high_price=6257.0, low_price=6150.6, close_price=6238.8), BarData(gateway_name='TS', extra=None, symbol='IC2210', exchange=<Exchange.CFFEX: 'CFFEX'>, datetime=datetime.datetime(2022, 8, 30, 0, 0, tzinfo=zoneinfo.ZoneInfo(key='Asia/Shanghai')), interval=<Interval.DAILY: 'd'>, volume=4115.0, turnover=511507.132, open_interest=7256.0, open_price=6237.0, high_price=6249.0, low_price=6178.8, close_price=6234.0), BarData(gateway_name='TS', extra=None, symbol='IC2210', exchange=<Exchange.CFFEX: 'CFFEX'>, datetime=datetime.datetime(2022, 8, 31, 0, 0, tzinfo=zoneinfo.ZoneInfo(key='Asia/Shanghai')), interval=<Interval.DAILY: 'd'>, volume=5795.0, turnover=710954.728, open_interest=9158.0, open_price=6203.6, high_price=6230.6, low_price=6083.0, close_price=6108.8), BarData(gateway_name='TS', extra=None, symbol='IC2210', exchange=<Exchange.CFFEX: 'CFFEX'>, datetime=datetime.datetime(2022, 9, 1, 0, 0, tzinfo=zoneinfo.ZoneInfo(key='Asia/Shanghai')), interval=<Interval.DAILY: 'd'>, volume=5352.0, turnover=654481.248, open_interest=9901.0, open_price=6099.8, high_price=6159.0, low_price=6059.0, close_price=6084.2), BarData(gateway_name='TS', extra=None, symbol='IC2210', exchange=<Exchange.CFFEX: 'CFFEX'>, datetime=datetime.datetime(2022, 9, 2, 0, 0, tzinfo=zoneinfo.ZoneInfo(key='Asia/Shanghai')), interval=<Interval.DAILY: 'd'>, volume=6773.0, turnover=826516.328, open_interest=12276.0, open_price=6099.0, high_price=6136.2, low_price=6063.0, close_price=6100.0), BarData(gateway_name='TS', extra=None, symbol='IC2210', exchange=<Exchange.CFFEX: 'CFFEX'>, datetime=datetime.datetime(2022, 9, 5, 0, 0, tzinfo=zoneinfo.ZoneInfo(key='Asia/Shanghai')), interval=<Interval.DAILY: 'd'>, volume=7044.0, turnover=861166.764, open_interest=14605.0, open_price=6082.2, high_price=6140.8, low_price=6069.0, close_price=6130.0), BarData(gateway_name='TS', extra=None, symbol='IC2210', exchange=<Exchange.CFFEX: 'CFFEX'>, datetime=datetime.datetime(2022, 9, 6, 0, 0, tzinfo=zoneinfo.ZoneInfo(key='Asia/Shanghai')), interval=<Interval.DAILY: 'd'>, volume=8007.0, turnover=993398.7, open_interest=17825.0, open_price=6142.2, high_price=6247.8, low_price=6141.2, close_price=6244.6), BarData(gateway_name='TS', extra=None, symbol='IC2210', exchange=<Exchange.CFFEX: 'CFFEX'>, datetime=datetime.datetime(2022, 9, 7, 0, 0, tzinfo=zoneinfo.ZoneInfo(key='Asia/Shanghai')), interval=<Interval.DAILY: 'd'>, volume=7254.0, turnover=906922.092, open_interest=19589.0, open_price=6223.8, high_price=6272.8, low_price=6216.2, close_price=6262.8), BarData(gateway_name='TS', extra=None, symbol='IC2210', exchange=<Exchange.CFFEX: 'CFFEX'>, datetime=datetime.datetime(2022, 9, 8, 0, 0, tzinfo=zoneinfo.ZoneInfo(key='Asia/Shanghai')), interval=<Interval.DAILY: 'd'>, volume=5607.0, turnover=700578.404, open_interest=20896.0, open_price=6251.8, high_price=6272.8, low_price=6233.0, close_price=6238.8), BarData(gateway_name='TS', extra=None, symbol='IC2210', exchange=<Exchange.CFFEX: 'CFFEX'>, datetime=datetime.datetime(2022, 9, 9, 0, 0, tzinfo=zoneinfo.ZoneInfo(key='Asia/Shanghai')), interval=<Interval.DAILY: 'd'>, volume=9537.0, turnover=1196326.808, open_interest=25328.0, open_price=6249.8, high_price=6297.6, low_price=6223.6, close_price=6284.6), BarData(gateway_name='TS', extra=None, symbol='IC2210', exchange=<Exchange.CFFEX: 'CFFEX'>, datetime=datetime.datetime(2022, 9, 13, 0, 0, tzinfo=zoneinfo.ZoneInfo(key='Asia/Shanghai')), interval=<Interval.DAILY: 'd'>, volume=19362.0, turnover=2432320.328, open_interest=36184.0, open_price=6294.4, high_price=6320.8, low_price=6254.8, close_price=6262.0), BarData(gateway_name='TS', extra=None, symbol='IC2210', exchange=<Exchange.CFFEX: 'CFFEX'>, datetime=datetime.datetime(2022, 9, 14, 0, 0, tzinfo=zoneinfo.ZoneInfo(key='Asia/Shanghai')), interval=<Interval.DAILY: 'd'>, volume=31072.0, turnover=3865920.924, open_interest=54841.0, open_price=6201.0, high_price=6249.0, low_price=6189.4, close_price=6223.0), BarData(gateway_name='TS', extra=None, symbol='IC2210', exchange=<Exchange.CFFEX: 'CFFEX'>, datetime=datetime.datetime(2022, 9, 15, 0, 0, tzinfo=zoneinfo.ZoneInfo(key='Asia/Shanghai')), interval=<Interval.DAILY: 'd'>, volume=65849.0, turnover=8060083.84, open_interest=90124.0, open_price=6241.0, high_price=6250.0, low_price=6020.0, close_price=6068.0), BarData(gateway_name='TS', extra=None, symbol='IC2210', exchange=<Exchange.CFFEX: 'CFFEX'>, datetime=datetime.datetime(2022, 9, 16, 0, 0, tzinfo=zoneinfo.ZoneInfo(key='Asia/Shanghai')), interval=<Interval.DAILY: 'd'>, volume=76621.0, turnover=9198406.076, open_interest=106956.0, open_price=6055.0, high_price=6079.6, low_price=5901.4, close_price=5918.0), BarData(gateway_name='TS', extra=None, symbol='IC2210', exchange=<Exchange.CFFEX: 'CFFEX'>, datetime=datetime.datetime(2022, 9, 19, 0, 0, tzinfo=zoneinfo.ZoneInfo(key='Asia/Shanghai')), interval=<Interval.DAILY: 'd'>, volume=64887.0, turnover=7638050.252, open_interest=106410.0, open_price=5918.0, high_price=5931.2, low_price=5835.8, close_price=5876.8), BarData(gateway_name='TS', extra=None, symbol='IC2210', exchange=<Exchange.CFFEX: 'CFFEX'>, datetime=datetime.datetime(2022, 9, 20, 0, 0, tzinfo=zoneinfo.ZoneInfo(key='Asia/Shanghai')), interval=<Interval.DAILY: 'd'>, volume=52173.0, turnover=6192681.592, open_interest=101056.0, open_price=5915.2, high_price=5984.6, low_price=5900.2, close_price=5918.6), BarData(gateway_name='TS', extra=None, symbol='IC2210', exchange=<Exchange.CFFEX: 'CFFEX'>, datetime=datetime.datetime(2022, 9, 21, 0, 0, tzinfo=zoneinfo.ZoneInfo(key='Asia/Shanghai')), interval=<Interval.DAILY: 'd'>, volume=57553.0, turnover=6808712.796, open_interest=104744.0, open_price=5903.6, high_price=5976.8, low_price=5848.6, close_price=5949.2), BarData(gateway_name='TS', extra=None, symbol='IC2210', exchange=<Exchange.CFFEX: 'CFFEX'>, datetime=datetime.datetime(2022, 9, 22, 0, 0, tzinfo=zoneinfo.ZoneInfo(key='Asia/Shanghai')), interval=<Interval.DAILY: 'd'>, volume=53013.0, turnover=6310896.192, open_interest=99880.0, open_price=5915.0, high_price=5992.4, low_price=5907.8, close_price=5938.6), BarData(gateway_name='TS', extra=None, symbol='IC2210', exchange=<Exchange.CFFEX: 'CFFEX'>, datetime=datetime.datetime(2022, 9, 23, 0, 0, tzinfo=zoneinfo.ZoneInfo(key='Asia/Shanghai')), interval=<Interval.DAILY: 'd'>, volume=76036.0, turnover=8947864.428, open_interest=112885.0, open_price=5946.8, high_price=5957.0, low_price=5800.2, close_price=5873.4), BarData(gateway_name='TS', extra=None, symbol='IC2210', exchange=<Exchange.CFFEX: 'CFFEX'>, datetime=datetime.datetime(2022, 9, 26, 0, 0, tzinfo=zoneinfo.ZoneInfo(key='Asia/Shanghai')), interval=<Interval.DAILY: 'd'>, volume=68051.0, turnover=7969099.16, open_interest=104212.0, open_price=5830.0, high_price=5929.8, low_price=5793.6, close_price=5804.4), BarData(gateway_name='TS', extra=None, symbol='IC2210', exchange=<Exchange.CFFEX: 'CFFEX'>, datetime=datetime.datetime(2022, 9, 27, 0, 0, tzinfo=zoneinfo.ZoneInfo(key='Asia/Shanghai')), interval=<Interval.DAILY: 'd'>, volume=63777.0, turnover=7474608.06, open_interest=99665.0, open_price=5824.8, high_price=5927.0, low_price=5805.2, close_price=5912.6), BarData(gateway_name='TS', extra=None, symbol='IC2210', exchange=<Exchange.CFFEX: 'CFFEX'>, datetime=datetime.datetime(2022, 9, 28, 0, 0, tzinfo=zoneinfo.ZoneInfo(key='Asia/Shanghai')), interval=<Interval.DAILY: 'd'>, volume=69064.0, turnover=8042595.632, open_interest=102744.0, open_price=5901.0, high_price=5912.0, low_price=5769.0, close_price=5772.0), BarData(gateway_name='TS', extra=None, symbol='IC2210', exchange=<Exchange.CFFEX: 'CFFEX'>, datetime=datetime.datetime(2022, 9, 29, 0, 0, tzinfo=zoneinfo.ZoneInfo(key='Asia/Shanghai')), interval=<Interval.DAILY: 'd'>, volume=64363.0, turnover=7485244.004, open_interest=99985.0, open_price=5825.0, high_price=5866.0, low_price=5743.0, close_price=5790.8), BarData(gateway_name='TS', extra=None, symbol='IC2210', exchange=<Exchange.CFFEX: 'CFFEX'>, datetime=datetime.datetime(2022, 9, 30, 0, 0, tzinfo=zoneinfo.ZoneInfo(key='Asia/Shanghai')), interval=<Interval.DAILY: 'd'>, volume=64713.0, turnover=7451769.364, open_interest=101694.0, open_price=5786.0, high_price=5816.4, low_price=5705.4, close_price=5710.2)]\n"
     ]
    }
   ],
   "source": [
    "req = HistoryRequest(\n",
    "    symbol=\"IC2210\",\n",
    "    exchange=Exchange.CFFEX,\n",
    "    interval=Interval('d'),\n",
    "    start=datetime(year=2022, month=1, day=1),\n",
    "    end=datetime.now(DB_TZ)\n",
    ")\n",
    "\n",
    "data = datafeed.query_bar_history(req)\n",
    "print(data)"
   ]
  }
 ],
 "metadata": {
  "kernelspec": {
   "display_name": "Python 3.10.4 ('vnpy')",
   "language": "python",
   "name": "python3"
  },
  "language_info": {
   "codemirror_mode": {
    "name": "ipython",
    "version": 3
   },
   "file_extension": ".py",
   "mimetype": "text/x-python",
   "name": "python",
   "nbconvert_exporter": "python",
   "pygments_lexer": "ipython3",
   "version": "3.10.4"
  },
  "vscode": {
   "interpreter": {
    "hash": "9b2150d3f6eecfbf64d6adbfb6f20470edd81f8c0d31fdc34933a1f3bed3b72a"
   }
  }
 },
 "nbformat": 4,
 "nbformat_minor": 2
}
